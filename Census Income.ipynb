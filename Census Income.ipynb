{
 "cells": [
  {
   "cell_type": "code",
   "execution_count": 1,
   "id": "91c26477-64d0-4822-9e36-83c1267d8088",
   "metadata": {},
   "outputs": [],
   "source": [
    "import pandas as pd\n",
    "import numpy as np\n",
    "import seaborn as sns\n",
    "import matplotlib.pyplot as plt\n",
    "import warnings \n",
    "warnings.filterwarnings('ignore')"
   ]
  },
  {
   "cell_type": "code",
   "execution_count": 2,
   "id": "9bec32ad-24b3-41c8-a20f-5ff14f60939f",
   "metadata": {},
   "outputs": [],
   "source": [
    "data= pd.read_csv('https://raw.githubusercontent.com/FlipRoboTechnologies/ML_-Datasets/main/Census%20Income/Census%20Income.csv')"
   ]
  },
  {
   "cell_type": "code",
   "execution_count": 3,
   "id": "ea4390cd-3e26-43c6-beb0-8a99ad0560e3",
   "metadata": {},
   "outputs": [
    {
     "data": {
      "text/html": [
       "<div>\n",
       "<style scoped>\n",
       "    .dataframe tbody tr th:only-of-type {\n",
       "        vertical-align: middle;\n",
       "    }\n",
       "\n",
       "    .dataframe tbody tr th {\n",
       "        vertical-align: top;\n",
       "    }\n",
       "\n",
       "    .dataframe thead th {\n",
       "        text-align: right;\n",
       "    }\n",
       "</style>\n",
       "<table border=\"1\" class=\"dataframe\">\n",
       "  <thead>\n",
       "    <tr style=\"text-align: right;\">\n",
       "      <th></th>\n",
       "      <th>Age</th>\n",
       "      <th>Workclass</th>\n",
       "      <th>Fnlwgt</th>\n",
       "      <th>Education</th>\n",
       "      <th>Education_num</th>\n",
       "      <th>Marital_status</th>\n",
       "      <th>Occupation</th>\n",
       "      <th>Relationship</th>\n",
       "      <th>Race</th>\n",
       "      <th>Sex</th>\n",
       "      <th>Capital_gain</th>\n",
       "      <th>Capital_loss</th>\n",
       "      <th>Hours_per_week</th>\n",
       "      <th>Native_country</th>\n",
       "      <th>Income</th>\n",
       "    </tr>\n",
       "  </thead>\n",
       "  <tbody>\n",
       "    <tr>\n",
       "      <th>0</th>\n",
       "      <td>50</td>\n",
       "      <td>Self-emp-not-inc</td>\n",
       "      <td>83311</td>\n",
       "      <td>Bachelors</td>\n",
       "      <td>13</td>\n",
       "      <td>Married-civ-spouse</td>\n",
       "      <td>Exec-managerial</td>\n",
       "      <td>Husband</td>\n",
       "      <td>White</td>\n",
       "      <td>Male</td>\n",
       "      <td>0</td>\n",
       "      <td>0</td>\n",
       "      <td>13</td>\n",
       "      <td>United-States</td>\n",
       "      <td>&lt;=50K</td>\n",
       "    </tr>\n",
       "    <tr>\n",
       "      <th>1</th>\n",
       "      <td>38</td>\n",
       "      <td>Private</td>\n",
       "      <td>215646</td>\n",
       "      <td>HS-grad</td>\n",
       "      <td>9</td>\n",
       "      <td>Divorced</td>\n",
       "      <td>Handlers-cleaners</td>\n",
       "      <td>Not-in-family</td>\n",
       "      <td>White</td>\n",
       "      <td>Male</td>\n",
       "      <td>0</td>\n",
       "      <td>0</td>\n",
       "      <td>40</td>\n",
       "      <td>United-States</td>\n",
       "      <td>&lt;=50K</td>\n",
       "    </tr>\n",
       "    <tr>\n",
       "      <th>2</th>\n",
       "      <td>53</td>\n",
       "      <td>Private</td>\n",
       "      <td>234721</td>\n",
       "      <td>11th</td>\n",
       "      <td>7</td>\n",
       "      <td>Married-civ-spouse</td>\n",
       "      <td>Handlers-cleaners</td>\n",
       "      <td>Husband</td>\n",
       "      <td>Black</td>\n",
       "      <td>Male</td>\n",
       "      <td>0</td>\n",
       "      <td>0</td>\n",
       "      <td>40</td>\n",
       "      <td>United-States</td>\n",
       "      <td>&lt;=50K</td>\n",
       "    </tr>\n",
       "  </tbody>\n",
       "</table>\n",
       "</div>"
      ],
      "text/plain": [
       "   Age          Workclass  Fnlwgt   Education  Education_num  \\\n",
       "0   50   Self-emp-not-inc   83311   Bachelors             13   \n",
       "1   38            Private  215646     HS-grad              9   \n",
       "2   53            Private  234721        11th              7   \n",
       "\n",
       "        Marital_status          Occupation    Relationship    Race    Sex  \\\n",
       "0   Married-civ-spouse     Exec-managerial         Husband   White   Male   \n",
       "1             Divorced   Handlers-cleaners   Not-in-family   White   Male   \n",
       "2   Married-civ-spouse   Handlers-cleaners         Husband   Black   Male   \n",
       "\n",
       "   Capital_gain  Capital_loss  Hours_per_week  Native_country  Income  \n",
       "0             0             0              13   United-States   <=50K  \n",
       "1             0             0              40   United-States   <=50K  \n",
       "2             0             0              40   United-States   <=50K  "
      ]
     },
     "execution_count": 3,
     "metadata": {},
     "output_type": "execute_result"
    }
   ],
   "source": [
    "data.head(3)"
   ]
  },
  {
   "cell_type": "code",
   "execution_count": 4,
   "id": "1d802e31-96b3-4f3b-b8f3-96aba3766027",
   "metadata": {},
   "outputs": [
    {
     "name": "stdout",
     "output_type": "stream",
     "text": [
      "Rows: 32560 Columns: 15\n"
     ]
    }
   ],
   "source": [
    "print('Rows: {} Columns: {}'.format(data.shape[0], data.shape[1]))"
   ]
  },
  {
   "cell_type": "code",
   "execution_count": 5,
   "id": "042c8938-c6b4-461c-b354-7a9fefaac487",
   "metadata": {},
   "outputs": [
    {
     "name": "stdout",
     "output_type": "stream",
     "text": [
      "<class 'pandas.core.frame.DataFrame'>\n",
      "RangeIndex: 32560 entries, 0 to 32559\n",
      "Data columns (total 15 columns):\n",
      " #   Column          Non-Null Count  Dtype \n",
      "---  ------          --------------  ----- \n",
      " 0   Age             32560 non-null  int64 \n",
      " 1   Workclass       32560 non-null  object\n",
      " 2   Fnlwgt          32560 non-null  int64 \n",
      " 3   Education       32560 non-null  object\n",
      " 4   Education_num   32560 non-null  int64 \n",
      " 5   Marital_status  32560 non-null  object\n",
      " 6   Occupation      32560 non-null  object\n",
      " 7   Relationship    32560 non-null  object\n",
      " 8   Race            32560 non-null  object\n",
      " 9   Sex             32560 non-null  object\n",
      " 10  Capital_gain    32560 non-null  int64 \n",
      " 11  Capital_loss    32560 non-null  int64 \n",
      " 12  Hours_per_week  32560 non-null  int64 \n",
      " 13  Native_country  32560 non-null  object\n",
      " 14  Income          32560 non-null  object\n",
      "dtypes: int64(6), object(9)\n",
      "memory usage: 3.7+ MB\n"
     ]
    }
   ],
   "source": [
    "data.info()"
   ]
  },
  {
   "cell_type": "code",
   "execution_count": 6,
   "id": "9aab5780-6e70-4aff-b8f0-2a25fa0352af",
   "metadata": {},
   "outputs": [
    {
     "data": {
      "text/html": [
       "<div>\n",
       "<style scoped>\n",
       "    .dataframe tbody tr th:only-of-type {\n",
       "        vertical-align: middle;\n",
       "    }\n",
       "\n",
       "    .dataframe tbody tr th {\n",
       "        vertical-align: top;\n",
       "    }\n",
       "\n",
       "    .dataframe thead th {\n",
       "        text-align: right;\n",
       "    }\n",
       "</style>\n",
       "<table border=\"1\" class=\"dataframe\">\n",
       "  <thead>\n",
       "    <tr style=\"text-align: right;\">\n",
       "      <th></th>\n",
       "      <th>Age</th>\n",
       "      <th>Fnlwgt</th>\n",
       "      <th>Education_num</th>\n",
       "      <th>Capital_gain</th>\n",
       "      <th>Capital_loss</th>\n",
       "      <th>Hours_per_week</th>\n",
       "    </tr>\n",
       "  </thead>\n",
       "  <tbody>\n",
       "    <tr>\n",
       "      <th>count</th>\n",
       "      <td>32560.000000</td>\n",
       "      <td>3.256000e+04</td>\n",
       "      <td>32560.000000</td>\n",
       "      <td>32560.000000</td>\n",
       "      <td>32560.000000</td>\n",
       "      <td>32560.000000</td>\n",
       "    </tr>\n",
       "    <tr>\n",
       "      <th>mean</th>\n",
       "      <td>38.581634</td>\n",
       "      <td>1.897818e+05</td>\n",
       "      <td>10.080590</td>\n",
       "      <td>1077.615172</td>\n",
       "      <td>87.306511</td>\n",
       "      <td>40.437469</td>\n",
       "    </tr>\n",
       "    <tr>\n",
       "      <th>std</th>\n",
       "      <td>13.640642</td>\n",
       "      <td>1.055498e+05</td>\n",
       "      <td>2.572709</td>\n",
       "      <td>7385.402999</td>\n",
       "      <td>402.966116</td>\n",
       "      <td>12.347618</td>\n",
       "    </tr>\n",
       "    <tr>\n",
       "      <th>min</th>\n",
       "      <td>17.000000</td>\n",
       "      <td>1.228500e+04</td>\n",
       "      <td>1.000000</td>\n",
       "      <td>0.000000</td>\n",
       "      <td>0.000000</td>\n",
       "      <td>1.000000</td>\n",
       "    </tr>\n",
       "    <tr>\n",
       "      <th>25%</th>\n",
       "      <td>28.000000</td>\n",
       "      <td>1.178315e+05</td>\n",
       "      <td>9.000000</td>\n",
       "      <td>0.000000</td>\n",
       "      <td>0.000000</td>\n",
       "      <td>40.000000</td>\n",
       "    </tr>\n",
       "    <tr>\n",
       "      <th>50%</th>\n",
       "      <td>37.000000</td>\n",
       "      <td>1.783630e+05</td>\n",
       "      <td>10.000000</td>\n",
       "      <td>0.000000</td>\n",
       "      <td>0.000000</td>\n",
       "      <td>40.000000</td>\n",
       "    </tr>\n",
       "    <tr>\n",
       "      <th>75%</th>\n",
       "      <td>48.000000</td>\n",
       "      <td>2.370545e+05</td>\n",
       "      <td>12.000000</td>\n",
       "      <td>0.000000</td>\n",
       "      <td>0.000000</td>\n",
       "      <td>45.000000</td>\n",
       "    </tr>\n",
       "    <tr>\n",
       "      <th>max</th>\n",
       "      <td>90.000000</td>\n",
       "      <td>1.484705e+06</td>\n",
       "      <td>16.000000</td>\n",
       "      <td>99999.000000</td>\n",
       "      <td>4356.000000</td>\n",
       "      <td>99.000000</td>\n",
       "    </tr>\n",
       "  </tbody>\n",
       "</table>\n",
       "</div>"
      ],
      "text/plain": [
       "                Age        Fnlwgt  Education_num  Capital_gain  Capital_loss  \\\n",
       "count  32560.000000  3.256000e+04   32560.000000  32560.000000  32560.000000   \n",
       "mean      38.581634  1.897818e+05      10.080590   1077.615172     87.306511   \n",
       "std       13.640642  1.055498e+05       2.572709   7385.402999    402.966116   \n",
       "min       17.000000  1.228500e+04       1.000000      0.000000      0.000000   \n",
       "25%       28.000000  1.178315e+05       9.000000      0.000000      0.000000   \n",
       "50%       37.000000  1.783630e+05      10.000000      0.000000      0.000000   \n",
       "75%       48.000000  2.370545e+05      12.000000      0.000000      0.000000   \n",
       "max       90.000000  1.484705e+06      16.000000  99999.000000   4356.000000   \n",
       "\n",
       "       Hours_per_week  \n",
       "count    32560.000000  \n",
       "mean        40.437469  \n",
       "std         12.347618  \n",
       "min          1.000000  \n",
       "25%         40.000000  \n",
       "50%         40.000000  \n",
       "75%         45.000000  \n",
       "max         99.000000  "
      ]
     },
     "execution_count": 6,
     "metadata": {},
     "output_type": "execute_result"
    }
   ],
   "source": [
    "data.describe()"
   ]
  },
  {
   "cell_type": "code",
   "execution_count": 7,
   "id": "dc3457d4-e9ba-4358-87a4-9967cb2241c1",
   "metadata": {},
   "outputs": [
    {
     "data": {
      "text/html": [
       "<div>\n",
       "<style scoped>\n",
       "    .dataframe tbody tr th:only-of-type {\n",
       "        vertical-align: middle;\n",
       "    }\n",
       "\n",
       "    .dataframe tbody tr th {\n",
       "        vertical-align: top;\n",
       "    }\n",
       "\n",
       "    .dataframe thead th {\n",
       "        text-align: right;\n",
       "    }\n",
       "</style>\n",
       "<table border=\"1\" class=\"dataframe\">\n",
       "  <thead>\n",
       "    <tr style=\"text-align: right;\">\n",
       "      <th></th>\n",
       "      <th>count</th>\n",
       "      <th>mean</th>\n",
       "      <th>std</th>\n",
       "      <th>min</th>\n",
       "      <th>25%</th>\n",
       "      <th>50%</th>\n",
       "      <th>75%</th>\n",
       "      <th>max</th>\n",
       "    </tr>\n",
       "  </thead>\n",
       "  <tbody>\n",
       "    <tr>\n",
       "      <th>Age</th>\n",
       "      <td>32560.0</td>\n",
       "      <td>38.581634</td>\n",
       "      <td>13.640642</td>\n",
       "      <td>17.0</td>\n",
       "      <td>28.0</td>\n",
       "      <td>37.0</td>\n",
       "      <td>48.0</td>\n",
       "      <td>90.0</td>\n",
       "    </tr>\n",
       "    <tr>\n",
       "      <th>Fnlwgt</th>\n",
       "      <td>32560.0</td>\n",
       "      <td>189781.814373</td>\n",
       "      <td>105549.764924</td>\n",
       "      <td>12285.0</td>\n",
       "      <td>117831.5</td>\n",
       "      <td>178363.0</td>\n",
       "      <td>237054.5</td>\n",
       "      <td>1484705.0</td>\n",
       "    </tr>\n",
       "    <tr>\n",
       "      <th>Education_num</th>\n",
       "      <td>32560.0</td>\n",
       "      <td>10.080590</td>\n",
       "      <td>2.572709</td>\n",
       "      <td>1.0</td>\n",
       "      <td>9.0</td>\n",
       "      <td>10.0</td>\n",
       "      <td>12.0</td>\n",
       "      <td>16.0</td>\n",
       "    </tr>\n",
       "    <tr>\n",
       "      <th>Capital_gain</th>\n",
       "      <td>32560.0</td>\n",
       "      <td>1077.615172</td>\n",
       "      <td>7385.402999</td>\n",
       "      <td>0.0</td>\n",
       "      <td>0.0</td>\n",
       "      <td>0.0</td>\n",
       "      <td>0.0</td>\n",
       "      <td>99999.0</td>\n",
       "    </tr>\n",
       "    <tr>\n",
       "      <th>Capital_loss</th>\n",
       "      <td>32560.0</td>\n",
       "      <td>87.306511</td>\n",
       "      <td>402.966116</td>\n",
       "      <td>0.0</td>\n",
       "      <td>0.0</td>\n",
       "      <td>0.0</td>\n",
       "      <td>0.0</td>\n",
       "      <td>4356.0</td>\n",
       "    </tr>\n",
       "    <tr>\n",
       "      <th>Hours_per_week</th>\n",
       "      <td>32560.0</td>\n",
       "      <td>40.437469</td>\n",
       "      <td>12.347618</td>\n",
       "      <td>1.0</td>\n",
       "      <td>40.0</td>\n",
       "      <td>40.0</td>\n",
       "      <td>45.0</td>\n",
       "      <td>99.0</td>\n",
       "    </tr>\n",
       "  </tbody>\n",
       "</table>\n",
       "</div>"
      ],
      "text/plain": [
       "                  count           mean            std      min       25%  \\\n",
       "Age             32560.0      38.581634      13.640642     17.0      28.0   \n",
       "Fnlwgt          32560.0  189781.814373  105549.764924  12285.0  117831.5   \n",
       "Education_num   32560.0      10.080590       2.572709      1.0       9.0   \n",
       "Capital_gain    32560.0    1077.615172    7385.402999      0.0       0.0   \n",
       "Capital_loss    32560.0      87.306511     402.966116      0.0       0.0   \n",
       "Hours_per_week  32560.0      40.437469      12.347618      1.0      40.0   \n",
       "\n",
       "                     50%       75%        max  \n",
       "Age                 37.0      48.0       90.0  \n",
       "Fnlwgt          178363.0  237054.5  1484705.0  \n",
       "Education_num       10.0      12.0       16.0  \n",
       "Capital_gain         0.0       0.0    99999.0  \n",
       "Capital_loss         0.0       0.0     4356.0  \n",
       "Hours_per_week      40.0      45.0       99.0  "
      ]
     },
     "execution_count": 7,
     "metadata": {},
     "output_type": "execute_result"
    }
   ],
   "source": [
    "data.describe().T"
   ]
  },
  {
   "cell_type": "code",
   "execution_count": 8,
   "id": "b1557b2e-7ede-4ff4-9039-d7f278c32a86",
   "metadata": {},
   "outputs": [
    {
     "data": {
      "text/plain": [
       "Age               0\n",
       "Workclass         0\n",
       "Fnlwgt            0\n",
       "Education         0\n",
       "Education_num     0\n",
       "Marital_status    0\n",
       "Occupation        0\n",
       "Relationship      0\n",
       "Race              0\n",
       "Sex               0\n",
       "Capital_gain      0\n",
       "Capital_loss      0\n",
       "Hours_per_week    0\n",
       "Native_country    0\n",
       "Income            0\n",
       "dtype: int64"
      ]
     },
     "execution_count": 8,
     "metadata": {},
     "output_type": "execute_result"
    }
   ],
   "source": [
    "data.isnull().sum()"
   ]
  },
  {
   "cell_type": "code",
   "execution_count": 9,
   "id": "00a3ee92-0331-46e7-ab03-a57355ea9a2b",
   "metadata": {},
   "outputs": [
    {
     "name": "stdout",
     "output_type": "stream",
     "text": [
      "Before removing duplicates: 24\n",
      "After removing duplicates: 0\n"
     ]
    }
   ],
   "source": [
    "print(\"Before removing duplicates:\", data.duplicated().sum())\n",
    "\n",
    "data = data[~data.duplicated()]\n",
    "\n",
    "print(\"After removing duplicates:\", data.duplicated().sum())"
   ]
  },
  {
   "cell_type": "code",
   "execution_count": 11,
   "id": "56144212-011d-4729-a298-eb89ee6866b8",
   "metadata": {},
   "outputs": [
    {
     "data": {
      "text/plain": [
       "Sex\n",
       " Male      21774\n",
       " Female    10762\n",
       "Name: count, dtype: int64"
      ]
     },
     "execution_count": 11,
     "metadata": {},
     "output_type": "execute_result"
    }
   ],
   "source": [
    "data.Sex.value_counts()"
   ]
  },
  {
   "cell_type": "code",
   "execution_count": 19,
   "id": "02b60804-7873-447f-8481-9d7109f9f8d7",
   "metadata": {},
   "outputs": [
    {
     "data": {
      "text/html": [
       "<div>\n",
       "<style scoped>\n",
       "    .dataframe tbody tr th:only-of-type {\n",
       "        vertical-align: middle;\n",
       "    }\n",
       "\n",
       "    .dataframe tbody tr th {\n",
       "        vertical-align: top;\n",
       "    }\n",
       "\n",
       "    .dataframe thead th {\n",
       "        text-align: right;\n",
       "    }\n",
       "</style>\n",
       "<table border=\"1\" class=\"dataframe\">\n",
       "  <thead>\n",
       "    <tr style=\"text-align: right;\">\n",
       "      <th></th>\n",
       "      <th>Age</th>\n",
       "      <th>Workclass</th>\n",
       "      <th>Fnlwgt</th>\n",
       "      <th>Education</th>\n",
       "      <th>Education_num</th>\n",
       "      <th>Marital_status</th>\n",
       "      <th>Occupation</th>\n",
       "      <th>Relationship</th>\n",
       "      <th>Race</th>\n",
       "      <th>Sex</th>\n",
       "      <th>Capital_gain</th>\n",
       "      <th>Capital_loss</th>\n",
       "      <th>Hours_per_week</th>\n",
       "      <th>Native_country</th>\n",
       "      <th>Income</th>\n",
       "    </tr>\n",
       "  </thead>\n",
       "  <tbody>\n",
       "    <tr>\n",
       "      <th>0</th>\n",
       "      <td>50</td>\n",
       "      <td>Self-emp-not-inc</td>\n",
       "      <td>83311</td>\n",
       "      <td>Bachelors</td>\n",
       "      <td>13</td>\n",
       "      <td>Married-civ-spouse</td>\n",
       "      <td>Exec-managerial</td>\n",
       "      <td>Husband</td>\n",
       "      <td>White</td>\n",
       "      <td>Male</td>\n",
       "      <td>0</td>\n",
       "      <td>0</td>\n",
       "      <td>13</td>\n",
       "      <td>United-States</td>\n",
       "      <td>&lt;=50K</td>\n",
       "    </tr>\n",
       "  </tbody>\n",
       "</table>\n",
       "</div>"
      ],
      "text/plain": [
       "   Age          Workclass  Fnlwgt   Education  Education_num  \\\n",
       "0   50   Self-emp-not-inc   83311   Bachelors             13   \n",
       "\n",
       "        Marital_status        Occupation Relationship    Race    Sex  \\\n",
       "0   Married-civ-spouse   Exec-managerial      Husband   White   Male   \n",
       "\n",
       "   Capital_gain  Capital_loss  Hours_per_week  Native_country  Income  \n",
       "0             0             0              13   United-States   <=50K  "
      ]
     },
     "execution_count": 19,
     "metadata": {},
     "output_type": "execute_result"
    }
   ],
   "source": [
    "data.head(1)"
   ]
  },
  {
   "cell_type": "code",
   "execution_count": 20,
   "id": "864f29d4-85cb-42d2-b538-002c5e30689e",
   "metadata": {},
   "outputs": [],
   "source": [
    "columns = ['Workclass', 'Marital_status', 'Occupation', 'Relationship', 'Race', 'Sex', 'Native_country', 'Income']\n",
    "for column in columns:\n",
    "    data[column] = data[column].str.strip()"
   ]
  },
  {
   "cell_type": "code",
   "execution_count": 22,
   "id": "6dd719a8-0607-48bd-ad82-fa715f47f75f",
   "metadata": {},
   "outputs": [
    {
     "data": {
      "text/plain": [
       "Sex\n",
       "Male      21774\n",
       "Female    10762\n",
       "Name: count, dtype: int64"
      ]
     },
     "execution_count": 22,
     "metadata": {},
     "output_type": "execute_result"
    }
   ],
   "source": [
    "data.Sex.value_counts()"
   ]
  },
  {
   "cell_type": "code",
   "execution_count": 25,
   "id": "8b7226d1-0dbd-4791-a124-f4749fcb6acb",
   "metadata": {},
   "outputs": [
    {
     "data": {
      "text/plain": [
       "Workclass\n",
       "Private             22673\n",
       "Self-emp-not-inc     2540\n",
       "Local-gov            2093\n",
       "?                    1836\n",
       "State-gov            1297\n",
       "Self-emp-inc         1116\n",
       "Federal-gov           960\n",
       "Without-pay            14\n",
       "Never-worked            7\n",
       "Name: count, dtype: int64"
      ]
     },
     "execution_count": 25,
     "metadata": {},
     "output_type": "execute_result"
    }
   ],
   "source": [
    "data.Workclass.value_counts()"
   ]
  },
  {
   "cell_type": "code",
   "execution_count": 26,
   "id": "4a9dcf05-68a0-4157-b7e9-1cab0dd102ad",
   "metadata": {},
   "outputs": [],
   "source": [
    "change_columns = ['Workclass', 'Occupation', 'Native_country']\n",
    "for column in change_columns:\n",
    "        data[column] = data[column].replace({'?': 'Unknown'})"
   ]
  },
  {
   "cell_type": "code",
   "execution_count": 27,
   "id": "31c8d79b-a558-4de0-baa2-9521f414d380",
   "metadata": {},
   "outputs": [
    {
     "data": {
      "text/plain": [
       "Workclass\n",
       "Private             22673\n",
       "Self-emp-not-inc     2540\n",
       "Local-gov            2093\n",
       "Unknown              1836\n",
       "State-gov            1297\n",
       "Self-emp-inc         1116\n",
       "Federal-gov           960\n",
       "Without-pay            14\n",
       "Never-worked            7\n",
       "Name: count, dtype: int64"
      ]
     },
     "execution_count": 27,
     "metadata": {},
     "output_type": "execute_result"
    }
   ],
   "source": [
    "data.Workclass.value_counts()"
   ]
  },
  {
   "cell_type": "code",
   "execution_count": 30,
   "id": "f7f87cd1-8ddb-43b9-9a53-fcdd8c7d352b",
   "metadata": {},
   "outputs": [
    {
     "data": {
      "image/png": "[encoded data removed]",
      "text/plain": [
       "<Figure size 1000x1000 with 2 Axes>"
      ]
     },
     "metadata": {},
     "output_type": "display_data"
    }
   ],
   "source": [
    "plt.figure(figsize=[10,10])\n",
    " \n",
    "ct_counts = data.groupby(['Education_num', 'Income']).size()\n",
    "ct_counts = ct_counts.reset_index(name = 'Count')\n",
    "ct_counts = ct_counts.pivot(index = 'Education_num', columns = 'Income', values = 'Count').fillna(0)\n",
    "\n",
    "sns.heatmap(ct_counts, annot = True, fmt = '.0f', cbar_kws = {'label' : 'Number of Individuals'})\n",
    "plt.title('Number of People for Education Class relative to Income')\n",
    "plt.xlabel('Income ($)')\n",
    "plt.ylabel('Education Class');"
   ]
  },
  {
   "cell_type": "code",
   "execution_count": 31,
   "id": "f732fec5-24d2-4051-a394-d020bc11d46a",
   "metadata": {},
   "outputs": [
    {
     "data": {
      "image/png": "[encoded data removed]",
      "text/plain": [
       "<Figure size 800x600 with 1 Axes>"
      ]
     },
     "metadata": {},
     "output_type": "display_data"
    }
   ],
   "source": [
    "plt.figure(figsize=[8,6])\n",
    "ax = sns.barplot(data = data, x = 'Income', y = 'Age', hue = 'Sex')\n",
    "ax.legend(loc = 8, ncol = 3, framealpha = 1, title = 'Sex')\n",
    "plt.title('Average of Age for Sex relative to Income')\n",
    "plt.xlabel('Income ($)')\n",
    "plt.ylabel('Average of Age');"
   ]
  },
  {
   "cell_type": "code",
   "execution_count": 32,
   "id": "3e2e56a7-e3b5-4679-9fab-804113317123",
   "metadata": {},
   "outputs": [
    {
     "data": {
      "image/png": "[encoded data removed]",
      "text/plain": [
       "<Figure size 800x600 with 1 Axes>"
      ]
     },
     "metadata": {},
     "output_type": "display_data"
    }
   ],
   "source": [
    "plt.figure(figsize=[8,6])\n",
    "sns.barplot(data=data, x='Income', y='Hours_per_week', palette='YlGnBu')\n",
    "plt.title('Average of Hours per Week relative to Income')\n",
    "plt.xlabel('Income ($)')\n",
    "plt.ylabel('Average of Hours per Week');"
   ]
  },
  {
   "cell_type": "code",
   "execution_count": 33,
   "id": "eda43ab9-74e6-472d-a80f-ba9ec5482e97",
   "metadata": {},
   "outputs": [],
   "source": [
    "data_prep=data.copy()"
   ]
  },
  {
   "cell_type": "code",
   "execution_count": 34,
   "id": "12a82105-4bf2-4d60-86af-b6011e0ad058",
   "metadata": {},
   "outputs": [],
   "source": [
    "from sklearn.preprocessing import MinMaxScaler\n",
    "numerical = ['Age', 'Capital_gain', 'Capital_loss', 'Hours_per_week', 'Fnlwgt']\n",
    "\n",
    "scaler = MinMaxScaler()\n",
    "data_prep[numerical] = scaler.fit_transform(data_prep[numerical])"
   ]
  },
  {
   "cell_type": "code",
   "execution_count": 35,
   "id": "da0f9db3-2831-4af6-9bbd-e96a8c1eaf08",
   "metadata": {},
   "outputs": [
    {
     "data": {
      "text/html": [
       "<div>\n",
       "<style scoped>\n",
       "    .dataframe tbody tr th:only-of-type {\n",
       "        vertical-align: middle;\n",
       "    }\n",
       "\n",
       "    .dataframe tbody tr th {\n",
       "        vertical-align: top;\n",
       "    }\n",
       "\n",
       "    .dataframe thead th {\n",
       "        text-align: right;\n",
       "    }\n",
       "</style>\n",
       "<table border=\"1\" class=\"dataframe\">\n",
       "  <thead>\n",
       "    <tr style=\"text-align: right;\">\n",
       "      <th></th>\n",
       "      <th>Age</th>\n",
       "      <th>Workclass</th>\n",
       "      <th>Fnlwgt</th>\n",
       "      <th>Education</th>\n",
       "      <th>Education_num</th>\n",
       "      <th>Marital_status</th>\n",
       "      <th>Occupation</th>\n",
       "      <th>Relationship</th>\n",
       "      <th>Race</th>\n",
       "      <th>Sex</th>\n",
       "      <th>Capital_gain</th>\n",
       "      <th>Capital_loss</th>\n",
       "      <th>Hours_per_week</th>\n",
       "      <th>Native_country</th>\n",
       "      <th>Income</th>\n",
       "    </tr>\n",
       "  </thead>\n",
       "  <tbody>\n",
       "    <tr>\n",
       "      <th>28794</th>\n",
       "      <td>0.164384</td>\n",
       "      <td>Private</td>\n",
       "      <td>0.029275</td>\n",
       "      <td>Assoc-acdm</td>\n",
       "      <td>12</td>\n",
       "      <td>Never-married</td>\n",
       "      <td>Tech-support</td>\n",
       "      <td>Not-in-family</td>\n",
       "      <td>White</td>\n",
       "      <td>Male</td>\n",
       "      <td>0.000000</td>\n",
       "      <td>0.0</td>\n",
       "      <td>0.448980</td>\n",
       "      <td>United-States</td>\n",
       "      <td>&lt;=50K</td>\n",
       "    </tr>\n",
       "    <tr>\n",
       "      <th>14411</th>\n",
       "      <td>0.698630</td>\n",
       "      <td>Private</td>\n",
       "      <td>0.103729</td>\n",
       "      <td>HS-grad</td>\n",
       "      <td>9</td>\n",
       "      <td>Married-civ-spouse</td>\n",
       "      <td>Prof-specialty</td>\n",
       "      <td>Husband</td>\n",
       "      <td>White</td>\n",
       "      <td>Male</td>\n",
       "      <td>0.000000</td>\n",
       "      <td>0.0</td>\n",
       "      <td>0.397959</td>\n",
       "      <td>Italy</td>\n",
       "      <td>&gt;50K</td>\n",
       "    </tr>\n",
       "    <tr>\n",
       "      <th>20721</th>\n",
       "      <td>0.205479</td>\n",
       "      <td>Self-emp-inc</td>\n",
       "      <td>0.225199</td>\n",
       "      <td>Some-college</td>\n",
       "      <td>10</td>\n",
       "      <td>Married-civ-spouse</td>\n",
       "      <td>Transport-moving</td>\n",
       "      <td>Husband</td>\n",
       "      <td>Black</td>\n",
       "      <td>Male</td>\n",
       "      <td>0.000000</td>\n",
       "      <td>0.0</td>\n",
       "      <td>0.346939</td>\n",
       "      <td>Haiti</td>\n",
       "      <td>&lt;=50K</td>\n",
       "    </tr>\n",
       "    <tr>\n",
       "      <th>12131</th>\n",
       "      <td>0.753425</td>\n",
       "      <td>Private</td>\n",
       "      <td>0.328882</td>\n",
       "      <td>HS-grad</td>\n",
       "      <td>9</td>\n",
       "      <td>Widowed</td>\n",
       "      <td>Adm-clerical</td>\n",
       "      <td>Not-in-family</td>\n",
       "      <td>White</td>\n",
       "      <td>Female</td>\n",
       "      <td>0.063601</td>\n",
       "      <td>0.0</td>\n",
       "      <td>0.397959</td>\n",
       "      <td>United-States</td>\n",
       "      <td>&lt;=50K</td>\n",
       "    </tr>\n",
       "    <tr>\n",
       "      <th>8945</th>\n",
       "      <td>0.465753</td>\n",
       "      <td>Private</td>\n",
       "      <td>0.090247</td>\n",
       "      <td>HS-grad</td>\n",
       "      <td>9</td>\n",
       "      <td>Married-civ-spouse</td>\n",
       "      <td>Adm-clerical</td>\n",
       "      <td>Husband</td>\n",
       "      <td>White</td>\n",
       "      <td>Male</td>\n",
       "      <td>0.000000</td>\n",
       "      <td>0.0</td>\n",
       "      <td>0.500000</td>\n",
       "      <td>United-States</td>\n",
       "      <td>&lt;=50K</td>\n",
       "    </tr>\n",
       "  </tbody>\n",
       "</table>\n",
       "</div>"
      ],
      "text/plain": [
       "            Age     Workclass    Fnlwgt      Education  Education_num  \\\n",
       "28794  0.164384       Private  0.029275     Assoc-acdm             12   \n",
       "14411  0.698630       Private  0.103729        HS-grad              9   \n",
       "20721  0.205479  Self-emp-inc  0.225199   Some-college             10   \n",
       "12131  0.753425       Private  0.328882        HS-grad              9   \n",
       "8945   0.465753       Private  0.090247        HS-grad              9   \n",
       "\n",
       "           Marital_status        Occupation   Relationship   Race     Sex  \\\n",
       "28794       Never-married      Tech-support  Not-in-family  White    Male   \n",
       "14411  Married-civ-spouse    Prof-specialty        Husband  White    Male   \n",
       "20721  Married-civ-spouse  Transport-moving        Husband  Black    Male   \n",
       "12131             Widowed      Adm-clerical  Not-in-family  White  Female   \n",
       "8945   Married-civ-spouse      Adm-clerical        Husband  White    Male   \n",
       "\n",
       "       Capital_gain  Capital_loss  Hours_per_week Native_country Income  \n",
       "28794      0.000000           0.0        0.448980  United-States  <=50K  \n",
       "14411      0.000000           0.0        0.397959          Italy   >50K  \n",
       "20721      0.000000           0.0        0.346939          Haiti  <=50K  \n",
       "12131      0.063601           0.0        0.397959  United-States  <=50K  \n",
       "8945       0.000000           0.0        0.500000  United-States  <=50K  "
      ]
     },
     "execution_count": 35,
     "metadata": {},
     "output_type": "execute_result"
    }
   ],
   "source": [
    "data_prep.sample(5)"
   ]
  },
  {
   "cell_type": "code",
   "execution_count": 37,
   "id": "35111ef0-aab0-4f24-b0f6-45d6c2270ec3",
   "metadata": {},
   "outputs": [],
   "source": [
    "data_prep['Sex'] = data_prep.Sex.replace({\"Female\": 0, \"Male\": 1})\n",
    "data_prep['Income'] = data_prep.Income.replace({\"<=50K\": 0, \">50K\": 1})\n",
    "data_prep = pd.get_dummies(data_prep)"
   ]
  },
  {
   "cell_type": "code",
   "execution_count": 38,
   "id": "e7c9a180-5a7e-4e2f-96c7-8c9e806dea66",
   "metadata": {},
   "outputs": [
    {
     "name": "stdout",
     "output_type": "stream",
     "text": [
      "108 total features after one-hot encoding.\n"
     ]
    }
   ],
   "source": [
    "encoded = list(data_prep.columns)\n",
    "print(\"{} total features after one-hot encoding.\".format(len(encoded)))"
   ]
  },
  {
   "cell_type": "code",
   "execution_count": 39,
   "id": "0cff17fe-5845-4c4e-b928-672afab1594b",
   "metadata": {},
   "outputs": [],
   "source": [
    "from sklearn.ensemble import RandomForestClassifier\n",
    "from sklearn.ensemble import AdaBoostClassifier\n",
    "from sklearn.linear_model import LogisticRegression\n",
    "from sklearn.model_selection import cross_validate\n",
    "from sklearn.metrics import accuracy_score\n",
    "from sklearn.metrics import f1_score\n",
    "from sklearn.model_selection import train_test_split\n"
   ]
  },
  {
   "cell_type": "code",
   "execution_count": 41,
   "id": "3a03b097-6358-44b4-9eb8-b7724c47736e",
   "metadata": {},
   "outputs": [],
   "source": [
    "X = data_prep.drop('Income', axis=1)\n",
    "y = data_prep['Income']\n",
    "X_train, X_test, y_train, y_test = train_test_split(X, y, test_size=0.2, random_state=42)"
   ]
  },
  {
   "cell_type": "code",
   "execution_count": 42,
   "id": "8b7c3e5e-3cca-47d3-9f33-f0d04e9eb78f",
   "metadata": {},
   "outputs": [],
   "source": [
    "models = {}\n",
    "models['LogisticRegression'] = LogisticRegression()\n",
    "models['RandomForest'] = RandomForestClassifier()\n",
    "models['AdaBoost'] = AdaBoostClassifier()"
   ]
  },
  {
   "cell_type": "code",
   "execution_count": 43,
   "id": "6b11a5be-ab3e-49c9-8f8f-b4d4eb0c7ecc",
   "metadata": {},
   "outputs": [
    {
     "name": "stdout",
     "output_type": "stream",
     "text": [
      "LogisticRegression:\n",
      "Accuracy: train:  0.8491286730976135 | test:  0.8483834438993363\n",
      "F1-score: train:  0.6540298072158689 | test:  0.6530609042501963\n",
      "---------------------------------------------------------\n",
      "RandomForest:\n",
      "Accuracy: train:  0.9999538975757808 | test:  0.8540079054385098\n",
      "F1-score: train:  0.999904316392034 | test:  0.6719650058088666\n",
      "---------------------------------------------------------\n",
      "AdaBoost:\n",
      "Accuracy: train:  0.8616455665889277 | test:  0.8600935506171833\n",
      "F1-score: train:  0.6815219479753549 | test:  0.677642684201062\n",
      "---------------------------------------------------------\n"
     ]
    }
   ],
   "source": [
    "for model_name in models:\n",
    "    model = models[model_name]\n",
    "    results = cross_validate(model, X, y, cv=5, scoring=['accuracy', 'f1'], return_train_score=True)\n",
    "    \n",
    "    print(model_name + \":\")\n",
    "    print(\"Accuracy:\" , 'train: ', results['train_accuracy'].mean(), '| test: ', results['test_accuracy'].mean())\n",
    "    print(\"F1-score:\" , 'train: ', results['train_f1'].mean(), '| test: ', results['test_f1'].mean())\n",
    "    print(\"---------------------------------------------------------\")"
   ]
  },
  {
   "cell_type": "code",
   "execution_count": 44,
   "id": "24e2c214-f0b6-4546-9d3f-383a119b2a52",
   "metadata": {},
   "outputs": [],
   "source": [
    "from imblearn.over_sampling import RandomOverSampler\n",
    "\n",
    "ros = RandomOverSampler(random_state=42)\n",
    "X_resampled, y_resampled = ros.fit_resample(X, y)\n",
    "Xr_train, Xr_test, yr_train, yr_test = train_test_split(X_resampled, y_resampled, test_size=0.2, random_state=42)"
   ]
  },
  {
   "cell_type": "code",
   "execution_count": 46,
   "id": "c99e2a82-7040-4a26-9947-3356dafc4fb6",
   "metadata": {
    "scrolled": true
   },
   "outputs": [
    {
     "name": "stdout",
     "output_type": "stream",
     "text": [
      "Accuracy: train:  0.9999746932825824 | test:  0.9341621430608192\n",
      "F1-score: train:  0.9999746941791446 | test:  0.9373785840126484\n"
     ]
    }
   ],
   "source": [
    "clf = RandomForestClassifier() \n",
    "clf.fit(X_train, y_train) \n",
    "results = cross_validate(clf, X_resampled, y_resampled, cv=5, scoring=['accuracy', 'f1'], return_train_score=True)\n",
    "print(\"Accuracy:\" , 'train: ', results['train_accuracy'].mean(), '| test: ', results['test_accuracy'].mean())\n",
    "print(\"F1-score:\", 'train: ', results['train_f1'].mean(), '| test: ', results['test_f1'].mean())"
   ]
  },
  {
   "cell_type": "code",
   "execution_count": 47,
   "id": "21a4f279-bc84-4785-b923-b0584384b5ff",
   "metadata": {},
   "outputs": [],
   "source": [
    "from sklearn.preprocessing import LabelEncoder"
   ]
  },
  {
   "cell_type": "code",
   "execution_count": 48,
   "id": "439b254f-899d-4727-a3dc-0a05f0121781",
   "metadata": {},
   "outputs": [],
   "source": [
    "data_conc = data.copy()"
   ]
  },
  {
   "cell_type": "code",
   "execution_count": 49,
   "id": "219702fb-0de6-4d1d-a5f7-c29c1752ab5a",
   "metadata": {},
   "outputs": [],
   "source": [
    "for col in data_conc.columns:\n",
    "    if data_conc[col].dtypes == 'object':\n",
    "        encoder = LabelEncoder()\n",
    "        data_conc[col] = encoder.fit_transform(data_conc[col])"
   ]
  },
  {
   "cell_type": "code",
   "execution_count": 50,
   "id": "7117d6e5-3317-4566-9e1f-b9c8769abbc9",
   "metadata": {},
   "outputs": [],
   "source": [
    "Xc = data_conc.drop('Income', axis=1)\n",
    "yc = data_conc['Income']\n",
    "Xc_train, Xc_test, yc_train, yc_test = train_test_split(Xc, yc, test_size=0.2, random_state=42)"
   ]
  },
  {
   "cell_type": "code",
   "execution_count": 51,
   "id": "41b78b5a-49bd-4dda-a3b7-fd03e73b20a5",
   "metadata": {},
   "outputs": [
    {
     "name": "stdout",
     "output_type": "stream",
     "text": [
      "\n",
      "Features Importance:\n"
     ]
    },
    {
     "data": {
      "text/html": [
       "<div>\n",
       "<style scoped>\n",
       "    .dataframe tbody tr th:only-of-type {\n",
       "        vertical-align: middle;\n",
       "    }\n",
       "\n",
       "    .dataframe tbody tr th {\n",
       "        vertical-align: top;\n",
       "    }\n",
       "\n",
       "    .dataframe thead th {\n",
       "        text-align: right;\n",
       "    }\n",
       "</style>\n",
       "<table border=\"1\" class=\"dataframe\">\n",
       "  <thead>\n",
       "    <tr style=\"text-align: right;\">\n",
       "      <th></th>\n",
       "      <th>Feature</th>\n",
       "      <th>Importance</th>\n",
       "    </tr>\n",
       "  </thead>\n",
       "  <tbody>\n",
       "    <tr>\n",
       "      <th>0</th>\n",
       "      <td>Age</td>\n",
       "      <td>15.577183</td>\n",
       "    </tr>\n",
       "    <tr>\n",
       "      <th>1</th>\n",
       "      <td>Workclass</td>\n",
       "      <td>4.090090</td>\n",
       "    </tr>\n",
       "    <tr>\n",
       "      <th>2</th>\n",
       "      <td>Fnlwgt</td>\n",
       "      <td>16.642707</td>\n",
       "    </tr>\n",
       "    <tr>\n",
       "      <th>3</th>\n",
       "      <td>Education</td>\n",
       "      <td>3.035631</td>\n",
       "    </tr>\n",
       "    <tr>\n",
       "      <th>4</th>\n",
       "      <td>Education_num</td>\n",
       "      <td>9.500347</td>\n",
       "    </tr>\n",
       "    <tr>\n",
       "      <th>5</th>\n",
       "      <td>Marital_status</td>\n",
       "      <td>5.791862</td>\n",
       "    </tr>\n",
       "    <tr>\n",
       "      <th>6</th>\n",
       "      <td>Occupation</td>\n",
       "      <td>6.815202</td>\n",
       "    </tr>\n",
       "    <tr>\n",
       "      <th>7</th>\n",
       "      <td>Relationship</td>\n",
       "      <td>10.716796</td>\n",
       "    </tr>\n",
       "    <tr>\n",
       "      <th>8</th>\n",
       "      <td>Race</td>\n",
       "      <td>1.360214</td>\n",
       "    </tr>\n",
       "    <tr>\n",
       "      <th>9</th>\n",
       "      <td>Sex</td>\n",
       "      <td>1.306350</td>\n",
       "    </tr>\n",
       "    <tr>\n",
       "      <th>10</th>\n",
       "      <td>Capital_gain</td>\n",
       "      <td>11.159839</td>\n",
       "    </tr>\n",
       "    <tr>\n",
       "      <th>11</th>\n",
       "      <td>Capital_loss</td>\n",
       "      <td>3.723297</td>\n",
       "    </tr>\n",
       "    <tr>\n",
       "      <th>12</th>\n",
       "      <td>Hours_per_week</td>\n",
       "      <td>8.445547</td>\n",
       "    </tr>\n",
       "    <tr>\n",
       "      <th>13</th>\n",
       "      <td>Native_country</td>\n",
       "      <td>1.834933</td>\n",
       "    </tr>\n",
       "  </tbody>\n",
       "</table>\n",
       "</div>"
      ],
      "text/plain": [
       "           Feature  Importance\n",
       "0              Age   15.577183\n",
       "1        Workclass    4.090090\n",
       "2           Fnlwgt   16.642707\n",
       "3        Education    3.035631\n",
       "4    Education_num    9.500347\n",
       "5   Marital_status    5.791862\n",
       "6       Occupation    6.815202\n",
       "7     Relationship   10.716796\n",
       "8             Race    1.360214\n",
       "9              Sex    1.306350\n",
       "10    Capital_gain   11.159839\n",
       "11    Capital_loss    3.723297\n",
       "12  Hours_per_week    8.445547\n",
       "13  Native_country    1.834933"
      ]
     },
     "execution_count": 51,
     "metadata": {},
     "output_type": "execute_result"
    }
   ],
   "source": [
    "clf = RandomForestClassifier()\n",
    "clf.fit(Xc_train, yc_train)\n",
    "\n",
    "print('\\nFeatures Importance:')\n",
    "feat_imp = pd.DataFrame(zip(Xc.columns.tolist(), clf.feature_importances_ * 100), columns=['Feature', 'Importance'])\n",
    "feat_imp"
   ]
  },
  {
   "cell_type": "code",
   "execution_count": 54,
   "id": "d96dcb6b-dacb-4475-8ffe-9dfb83fa9857",
   "metadata": {},
   "outputs": [
    {
     "data": {
      "image/png": "[encoded data removed]",
      "text/plain": [
       "<Figure size 2000x600 with 1 Axes>"
      ]
     },
     "metadata": {},
     "output_type": "display_data"
    }
   ],
   "source": [
    "plt.figure(figsize=[20,6])\n",
    "sns.barplot(data=feat_imp, x='Feature', y='Importance')\n",
    "plt.title('Features Importance', weight='bold', fontsize=20)\n",
    "plt.xlabel('Feature', weight='bold', fontsize=13)\n",
    "plt.ylabel('Importance (%)', weight='bold', fontsize=13);\n",
    "\n",
    "impo = feat_imp['Importance']\n",
    "locs, labels = plt.xticks()\n",
    "\n",
    "for loc, label in zip(locs, labels):\n",
    "    count = impo[loc]\n",
    "    pct_string = '{:0.2f}%'.format(count)\n",
    "\n",
    "    plt.text(loc, count-0.8, pct_string, ha = 'center', color = 'w', weight='bold')"
   ]
  },
  {
   "cell_type": "code",
   "execution_count": 55,
   "id": "629487b3-55a6-48ad-819c-0a7d83df5644",
   "metadata": {},
   "outputs": [],
   "source": [
    "data_final = data.copy()"
   ]
  },
  {
   "cell_type": "code",
   "execution_count": 56,
   "id": "05e4482c-89dc-4405-ad70-0b8074fd7502",
   "metadata": {},
   "outputs": [
    {
     "data": {
      "text/html": [
       "<div>\n",
       "<style scoped>\n",
       "    .dataframe tbody tr th:only-of-type {\n",
       "        vertical-align: middle;\n",
       "    }\n",
       "\n",
       "    .dataframe tbody tr th {\n",
       "        vertical-align: top;\n",
       "    }\n",
       "\n",
       "    .dataframe thead th {\n",
       "        text-align: right;\n",
       "    }\n",
       "</style>\n",
       "<table border=\"1\" class=\"dataframe\">\n",
       "  <thead>\n",
       "    <tr style=\"text-align: right;\">\n",
       "      <th></th>\n",
       "      <th>Age</th>\n",
       "      <th>Workclass</th>\n",
       "      <th>Fnlwgt</th>\n",
       "      <th>Education</th>\n",
       "      <th>Education_num</th>\n",
       "      <th>Marital_status</th>\n",
       "      <th>Occupation</th>\n",
       "      <th>Relationship</th>\n",
       "      <th>Race</th>\n",
       "      <th>Sex</th>\n",
       "      <th>Capital_gain</th>\n",
       "      <th>Capital_loss</th>\n",
       "      <th>Hours_per_week</th>\n",
       "      <th>Native_country</th>\n",
       "      <th>Income</th>\n",
       "    </tr>\n",
       "  </thead>\n",
       "  <tbody>\n",
       "    <tr>\n",
       "      <th>0</th>\n",
       "      <td>50</td>\n",
       "      <td>Self-emp-not-inc</td>\n",
       "      <td>83311</td>\n",
       "      <td>Bachelors</td>\n",
       "      <td>13</td>\n",
       "      <td>Married-civ-spouse</td>\n",
       "      <td>Exec-managerial</td>\n",
       "      <td>Husband</td>\n",
       "      <td>White</td>\n",
       "      <td>Male</td>\n",
       "      <td>0</td>\n",
       "      <td>0</td>\n",
       "      <td>13</td>\n",
       "      <td>United-States</td>\n",
       "      <td>&lt;=50K</td>\n",
       "    </tr>\n",
       "    <tr>\n",
       "      <th>1</th>\n",
       "      <td>38</td>\n",
       "      <td>Private</td>\n",
       "      <td>215646</td>\n",
       "      <td>HS-grad</td>\n",
       "      <td>9</td>\n",
       "      <td>Divorced</td>\n",
       "      <td>Handlers-cleaners</td>\n",
       "      <td>Not-in-family</td>\n",
       "      <td>White</td>\n",
       "      <td>Male</td>\n",
       "      <td>0</td>\n",
       "      <td>0</td>\n",
       "      <td>40</td>\n",
       "      <td>United-States</td>\n",
       "      <td>&lt;=50K</td>\n",
       "    </tr>\n",
       "    <tr>\n",
       "      <th>2</th>\n",
       "      <td>53</td>\n",
       "      <td>Private</td>\n",
       "      <td>234721</td>\n",
       "      <td>11th</td>\n",
       "      <td>7</td>\n",
       "      <td>Married-civ-spouse</td>\n",
       "      <td>Handlers-cleaners</td>\n",
       "      <td>Husband</td>\n",
       "      <td>Black</td>\n",
       "      <td>Male</td>\n",
       "      <td>0</td>\n",
       "      <td>0</td>\n",
       "      <td>40</td>\n",
       "      <td>United-States</td>\n",
       "      <td>&lt;=50K</td>\n",
       "    </tr>\n",
       "    <tr>\n",
       "      <th>3</th>\n",
       "      <td>28</td>\n",
       "      <td>Private</td>\n",
       "      <td>338409</td>\n",
       "      <td>Bachelors</td>\n",
       "      <td>13</td>\n",
       "      <td>Married-civ-spouse</td>\n",
       "      <td>Prof-specialty</td>\n",
       "      <td>Wife</td>\n",
       "      <td>Black</td>\n",
       "      <td>Female</td>\n",
       "      <td>0</td>\n",
       "      <td>0</td>\n",
       "      <td>40</td>\n",
       "      <td>Cuba</td>\n",
       "      <td>&lt;=50K</td>\n",
       "    </tr>\n",
       "    <tr>\n",
       "      <th>4</th>\n",
       "      <td>37</td>\n",
       "      <td>Private</td>\n",
       "      <td>284582</td>\n",
       "      <td>Masters</td>\n",
       "      <td>14</td>\n",
       "      <td>Married-civ-spouse</td>\n",
       "      <td>Exec-managerial</td>\n",
       "      <td>Wife</td>\n",
       "      <td>White</td>\n",
       "      <td>Female</td>\n",
       "      <td>0</td>\n",
       "      <td>0</td>\n",
       "      <td>40</td>\n",
       "      <td>United-States</td>\n",
       "      <td>&lt;=50K</td>\n",
       "    </tr>\n",
       "  </tbody>\n",
       "</table>\n",
       "</div>"
      ],
      "text/plain": [
       "   Age         Workclass  Fnlwgt   Education  Education_num  \\\n",
       "0   50  Self-emp-not-inc   83311   Bachelors             13   \n",
       "1   38           Private  215646     HS-grad              9   \n",
       "2   53           Private  234721        11th              7   \n",
       "3   28           Private  338409   Bachelors             13   \n",
       "4   37           Private  284582     Masters             14   \n",
       "\n",
       "       Marital_status         Occupation   Relationship   Race     Sex  \\\n",
       "0  Married-civ-spouse    Exec-managerial        Husband  White    Male   \n",
       "1            Divorced  Handlers-cleaners  Not-in-family  White    Male   \n",
       "2  Married-civ-spouse  Handlers-cleaners        Husband  Black    Male   \n",
       "3  Married-civ-spouse     Prof-specialty           Wife  Black  Female   \n",
       "4  Married-civ-spouse    Exec-managerial           Wife  White  Female   \n",
       "\n",
       "   Capital_gain  Capital_loss  Hours_per_week Native_country Income  \n",
       "0             0             0              13  United-States  <=50K  \n",
       "1             0             0              40  United-States  <=50K  \n",
       "2             0             0              40  United-States  <=50K  \n",
       "3             0             0              40           Cuba  <=50K  \n",
       "4             0             0              40  United-States  <=50K  "
      ]
     },
     "execution_count": 56,
     "metadata": {},
     "output_type": "execute_result"
    }
   ],
   "source": [
    "data_final.head(5)"
   ]
  },
  {
   "cell_type": "code",
   "execution_count": 58,
   "id": "d907bcf2-f368-44c4-89d6-985640e3acd0",
   "metadata": {},
   "outputs": [],
   "source": [
    "data_final.drop(['Race', 'Sex', 'Capital_loss', 'Native_country'], axis=1, inplace=True)"
   ]
  },
  {
   "cell_type": "code",
   "execution_count": 59,
   "id": "015e3d20-a029-4204-b9a1-b76ced10ea58",
   "metadata": {},
   "outputs": [],
   "source": [
    "numerical = ['Age', 'Capital_gain', 'Hours_per_week', 'Fnlwgt']\n",
    "scaler = MinMaxScaler()\n",
    "data_final[numerical] = scaler.fit_transform(data_final[numerical])\n",
    "\n",
    "data_final['Income'] = data_final.Income.replace({\"<=50K\": 0, \">50K\": 1})\n",
    "\n",
    "data_final = pd.get_dummies(data_final)\n",
    "\n",
    "Xf = data_final.drop('Income', axis=1)\n",
    "yf = data_final['Income']\n",
    "\n",
    "ros = RandomOverSampler(random_state=42)\n",
    "X_resampled, y_resampled = ros.fit_resample(Xf, yf)"
   ]
  },
  {
   "cell_type": "code",
   "execution_count": 60,
   "id": "2bcb6b11-a0e2-48f6-8e01-0977c9a3f689",
   "metadata": {},
   "outputs": [
    {
     "name": "stdout",
     "output_type": "stream",
     "text": [
      "Accuracy: train:  0.9999696319134819 | test:  0.9299915902853767\n",
      "F1-score: train:  0.9999696328100572 | test:  0.9336382470315538\n"
     ]
    }
   ],
   "source": [
    "clf = RandomForestClassifier()\n",
    "\n",
    "results = cross_validate(clf, X_resampled, y_resampled, cv=5, scoring=['accuracy', 'f1'], return_train_score=True)\n",
    "print(\"Accuracy:\" , 'train: ', results['train_accuracy'].mean(), '| test: ', results['test_accuracy'].mean())\n",
    "print(\"F1-score:\" , 'train: ', results['train_f1'].mean(), '| test: ', results['test_f1'].mean())"
   ]
  },
  {
   "cell_type": "code",
   "execution_count": null,
   "id": "1a4bf7cb-1f2c-41b3-bbbb-e986d7fc3819",
   "metadata": {},
   "outputs": [],
   "source": []
  },
  {
   "cell_type": "code",
   "execution_count": null,
   "id": "2719c304-3645-4b2a-a0fd-7bff5b1b5ee8",
   "metadata": {},
   "outputs": [],
   "source": []
  },
  {
   "cell_type": "code",
   "execution_count": null,
   "id": "13bd40f3-918d-4d1f-9c97-c1bbd719687f",
   "metadata": {},
   "outputs": [],
   "source": []
  }
 ],
 "metadata": {
  "kernelspec": {
   "display_name": "Python 3 (ipykernel)",
   "language": "python",
   "name": "python3"
  },
  "language_info": {
   "codemirror_mode": {
    "name": "ipython",
    "version": 3
   },
   "file_extension": ".py",
   "mimetype": "text/x-python",
   "name": "python",
   "nbconvert_exporter": "python",
   "pygments_lexer": "ipython3",
   "version": "3.11.7"
  }
 },
 "nbformat": 4,
 "nbformat_minor": 5
}
